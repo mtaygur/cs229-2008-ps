{
 "cells": [
  {
   "cell_type": "markdown",
   "metadata": {},
   "source": [
    "# CS229 - Problem Set 1\n"
   ]
  },
  {
   "cell_type": "markdown",
   "metadata": {},
   "source": [
    "### 1. Newtons method for computing least squares"
   ]
  },
  {
   "cell_type": "markdown",
   "metadata": {},
   "source": [
    "In this problem, we will prove that if we use Newton’s method solve the least squares optimization problem, then we only need one iteration to converge to $\\theta^*$."
   ]
  },
  {
   "cell_type": "markdown",
   "metadata": {},
   "source": [
    "(a) Find the Hessian of the cost function $J(\\theta) = \\dfrac{1}{2} \\sum_{i=1}^{m} \\left( \\theta^T x^{(i)} - y^{(i)} \\right)^2 $.\n",
    "\n",
    "#### Solution:"
   ]
  },
  {
   "cell_type": "markdown",
   "metadata": {},
   "source": [
    "Let $ J(\\theta) = \\dfrac{1}{2} \\sum_{i=1}^{m} \\left( \\theta^T x^{(i)} - y^{(i)} \\right)^2 = \\dfrac{1}{2} \\big|\\big| \\, C \\, \\big|\\big|^2, \\; C \\in \\mathbb{R}^{m}, \\; C = \\begin{bmatrix}\n",
    "    \\theta^T x^{(1)} - y^{(1)} \\\\\n",
    "    \\theta^T x^{(2)} - y^{(2)} \\\\\n",
    "    \\vdots \\\\\n",
    "    \\theta^T x^{(m)} - y^{(m)} \n",
    "    \\end{bmatrix} $,"
   ]
  },
  {
   "cell_type": "markdown",
   "metadata": {},
   "source": [
    "Also, $ X = \\begin{bmatrix} x^{(1)} \\\\ x^{(2)} \\\\ \\vdots \\\\ x^{(m)} \\end{bmatrix} $, $ X \\in \\mathbb{R}^{m \\times n} $, $ Y = \\begin{bmatrix} y^{(1)} \\\\ y^{(2)} \\\\ \\vdots \\\\ y^{(m)} \\end{bmatrix} $, $ Y \\in \\mathbb{R}^{m} $, hence, $ C = X \\theta - Y $."
   ]
  },
  {
   "cell_type": "markdown",
   "metadata": {},
   "source": [
    "Thus, $ J(\\theta) = \\dfrac{1}{2} \\big|\\big| \\, X \\theta - Y \\, \\big|\\big|^2 = \\dfrac{1}{2} \\left( X \\theta - Y \\right)^T \\left( X \\theta - Y \\right) = \\dfrac{1}{2} \\left( \\theta^T X^T - Y^T \\right) \\left( X \\theta - Y \\right) = \\theta^T X^T X \\theta - \\theta^T X^T Y - Y^T X \\theta + Y^T Y $"
   ]
  },
  {
   "cell_type": "markdown",
   "metadata": {},
   "source": [
    "$ = \\theta^T X^T X \\theta - \\left( Y^T X \\theta \\right)^T - Y^T X \\theta + Y^T Y $."
   ]
  },
  {
   "cell_type": "markdown",
   "metadata": {},
   "source": [
    "Since $ Y^T X \\theta \\in \\mathbb{R} $, $ J(\\theta) = \\theta^T X^T X \\theta - 2 Y^T X \\theta + Y^T Y $. Hessian can be then given as $ \\nabla^2_{\\theta} J = X^T X $."
   ]
  },
  {
   "cell_type": "code",
   "execution_count": null,
   "metadata": {},
   "outputs": [],
   "source": []
  }
 ],
 "metadata": {
  "kernelspec": {
   "display_name": "Python 3",
   "language": "python",
   "name": "python3"
  },
  "language_info": {
   "codemirror_mode": {
    "name": "ipython",
    "version": 3
   },
   "file_extension": ".py",
   "mimetype": "text/x-python",
   "name": "python",
   "nbconvert_exporter": "python",
   "pygments_lexer": "ipython3",
   "version": "3.6.4"
  }
 },
 "nbformat": 4,
 "nbformat_minor": 2
}
